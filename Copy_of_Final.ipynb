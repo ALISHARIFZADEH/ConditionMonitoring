{
  "nbformat": 4,
  "nbformat_minor": 0,
  "metadata": {
    "accelerator": "GPU",
    "colab": {
      "name": "Copy of Final.ipynb",
      "provenance": [],
      "collapsed_sections": []
    },
    "kernelspec": {
      "display_name": "Python 3",
      "name": "python3"
    },
    "language_info": {
      "name": "python"
    }
  },
  "cells": [
    {
      "cell_type": "code",
      "metadata": {
        "colab": {
          "base_uri": "https://localhost:8080/"
        },
        "id": "pdiiXx706TRl",
        "outputId": "fe1a03b9-3be8-44f6-ce0f-24a73e420132"
      },
      "source": [
        "!pip install dash-bootstrap-components"
      ],
      "execution_count": null,
      "outputs": [
        {
          "output_type": "stream",
          "name": "stdout",
          "text": [
            "Collecting dash-bootstrap-components\n",
            "  Downloading dash_bootstrap_components-1.0.0-py3-none-any.whl (207 kB)\n",
            "\u001b[?25l\r\u001b[K     |█▋                              | 10 kB 21.3 MB/s eta 0:00:01\r\u001b[K     |███▏                            | 20 kB 25.3 MB/s eta 0:00:01\r\u001b[K     |████▊                           | 30 kB 11.5 MB/s eta 0:00:01\r\u001b[K     |██████▎                         | 40 kB 9.1 MB/s eta 0:00:01\r\u001b[K     |███████▉                        | 51 kB 5.1 MB/s eta 0:00:01\r\u001b[K     |█████████▌                      | 61 kB 5.6 MB/s eta 0:00:01\r\u001b[K     |███████████                     | 71 kB 6.0 MB/s eta 0:00:01\r\u001b[K     |████████████▋                   | 81 kB 6.7 MB/s eta 0:00:01\r\u001b[K     |██████████████▏                 | 92 kB 6.4 MB/s eta 0:00:01\r\u001b[K     |███████████████▊                | 102 kB 5.4 MB/s eta 0:00:01\r\u001b[K     |█████████████████▎              | 112 kB 5.4 MB/s eta 0:00:01\r\u001b[K     |███████████████████             | 122 kB 5.4 MB/s eta 0:00:01\r\u001b[K     |████████████████████▌           | 133 kB 5.4 MB/s eta 0:00:01\r\u001b[K     |██████████████████████          | 143 kB 5.4 MB/s eta 0:00:01\r\u001b[K     |███████████████████████▋        | 153 kB 5.4 MB/s eta 0:00:01\r\u001b[K     |█████████████████████████▏      | 163 kB 5.4 MB/s eta 0:00:01\r\u001b[K     |██████████████████████████▉     | 174 kB 5.4 MB/s eta 0:00:01\r\u001b[K     |████████████████████████████▍   | 184 kB 5.4 MB/s eta 0:00:01\r\u001b[K     |██████████████████████████████  | 194 kB 5.4 MB/s eta 0:00:01\r\u001b[K     |███████████████████████████████▌| 204 kB 5.4 MB/s eta 0:00:01\r\u001b[K     |████████████████████████████████| 207 kB 5.4 MB/s \n",
            "\u001b[?25hCollecting dash>=2.0.0\n",
            "  Downloading dash-2.0.0-py3-none-any.whl (7.3 MB)\n",
            "\u001b[K     |████████████████████████████████| 7.3 MB 37.7 MB/s \n",
            "\u001b[?25hCollecting dash-core-components==2.0.0\n",
            "  Downloading dash_core_components-2.0.0.tar.gz (3.4 kB)\n",
            "Requirement already satisfied: Flask>=1.0.4 in /usr/local/lib/python3.7/dist-packages (from dash>=2.0.0->dash-bootstrap-components) (1.1.4)\n",
            "Collecting dash-table==5.0.0\n",
            "  Downloading dash_table-5.0.0.tar.gz (3.4 kB)\n",
            "Collecting plotly>=5.0.0\n",
            "  Downloading plotly-5.3.1-py2.py3-none-any.whl (23.9 MB)\n",
            "\u001b[K     |████████████████████████████████| 23.9 MB 43.5 MB/s \n",
            "\u001b[?25hCollecting flask-compress\n",
            "  Downloading Flask_Compress-1.10.1-py3-none-any.whl (7.9 kB)\n",
            "Collecting dash-html-components==2.0.0\n",
            "  Downloading dash_html_components-2.0.0.tar.gz (3.8 kB)\n",
            "Requirement already satisfied: click<8.0,>=5.1 in /usr/local/lib/python3.7/dist-packages (from Flask>=1.0.4->dash>=2.0.0->dash-bootstrap-components) (7.1.2)\n",
            "Requirement already satisfied: itsdangerous<2.0,>=0.24 in /usr/local/lib/python3.7/dist-packages (from Flask>=1.0.4->dash>=2.0.0->dash-bootstrap-components) (1.1.0)\n",
            "Requirement already satisfied: Werkzeug<2.0,>=0.15 in /usr/local/lib/python3.7/dist-packages (from Flask>=1.0.4->dash>=2.0.0->dash-bootstrap-components) (1.0.1)\n",
            "Requirement already satisfied: Jinja2<3.0,>=2.10.1 in /usr/local/lib/python3.7/dist-packages (from Flask>=1.0.4->dash>=2.0.0->dash-bootstrap-components) (2.11.3)\n",
            "Requirement already satisfied: MarkupSafe>=0.23 in /usr/local/lib/python3.7/dist-packages (from Jinja2<3.0,>=2.10.1->Flask>=1.0.4->dash>=2.0.0->dash-bootstrap-components) (2.0.1)\n",
            "Requirement already satisfied: six in /usr/local/lib/python3.7/dist-packages (from plotly>=5.0.0->dash>=2.0.0->dash-bootstrap-components) (1.15.0)\n",
            "Collecting tenacity>=6.2.0\n",
            "  Downloading tenacity-8.0.1-py3-none-any.whl (24 kB)\n",
            "Collecting brotli\n",
            "  Downloading Brotli-1.0.9-cp37-cp37m-manylinux1_x86_64.whl (357 kB)\n",
            "\u001b[K     |████████████████████████████████| 357 kB 44.1 MB/s \n",
            "\u001b[?25hBuilding wheels for collected packages: dash-core-components, dash-html-components, dash-table\n",
            "  Building wheel for dash-core-components (setup.py) ... \u001b[?25l\u001b[?25hdone\n",
            "  Created wheel for dash-core-components: filename=dash_core_components-2.0.0-py3-none-any.whl size=3821 sha256=6e50dd99a26d3e3945492fbfece80deeb508ee463328016c7360b581d5a631b9\n",
            "  Stored in directory: /root/.cache/pip/wheels/00/f9/c7/1a6437d794ed753ea9bc9079e761d4fc803a1f1f5d3697b9ec\n",
            "  Building wheel for dash-html-components (setup.py) ... \u001b[?25l\u001b[?25hdone\n",
            "  Created wheel for dash-html-components: filename=dash_html_components-2.0.0-py3-none-any.whl size=4089 sha256=dd6d9ec06970e02daf7b5b682267b62f25fb7392665989ab803d7bcaac76f28e\n",
            "  Stored in directory: /root/.cache/pip/wheels/ec/6b/81/05aceabd8b27f724e2c96784016287cc1bfbc349ebfda451de\n",
            "  Building wheel for dash-table (setup.py) ... \u001b[?25l\u001b[?25hdone\n",
            "  Created wheel for dash-table: filename=dash_table-5.0.0-py3-none-any.whl size=3911 sha256=4f930e245c62b54a936c2ef02a6015811fa05d7095b608682885b8615eed983e\n",
            "  Stored in directory: /root/.cache/pip/wheels/85/5d/4e/7c276b57992951dbe770bf5caad6448d0539c510663aefd2e2\n",
            "Successfully built dash-core-components dash-html-components dash-table\n",
            "Installing collected packages: tenacity, brotli, plotly, flask-compress, dash-table, dash-html-components, dash-core-components, dash, dash-bootstrap-components\n",
            "  Attempting uninstall: plotly\n",
            "    Found existing installation: plotly 4.4.1\n",
            "    Uninstalling plotly-4.4.1:\n",
            "      Successfully uninstalled plotly-4.4.1\n",
            "Successfully installed brotli-1.0.9 dash-2.0.0 dash-bootstrap-components-1.0.0 dash-core-components-2.0.0 dash-html-components-2.0.0 dash-table-5.0.0 flask-compress-1.10.1 plotly-5.3.1 tenacity-8.0.1\n"
          ]
        }
      ]
    },
    {
      "cell_type": "code",
      "metadata": {
        "colab": {
          "base_uri": "https://localhost:8080/"
        },
        "id": "eD3_VG3fXYNJ",
        "outputId": "3ee08ce3-5b0c-437b-e2b2-7d61111923c6"
      },
      "source": [
        "from google.colab import drive\n",
        "drive.mount('/content/drive')"
      ],
      "execution_count": null,
      "outputs": [
        {
          "output_type": "stream",
          "name": "stdout",
          "text": [
            "Mounted at /content/drive\n"
          ]
        }
      ]
    },
    {
      "cell_type": "code",
      "metadata": {
        "colab": {
          "base_uri": "https://localhost:8080/"
        },
        "id": "T268hlFc6j1Q",
        "outputId": "805d5224-819f-4f7c-f84b-536798d9dd35"
      },
      "source": [
        "!pip install dash-core-components"
      ],
      "execution_count": null,
      "outputs": [
        {
          "output_type": "stream",
          "name": "stdout",
          "text": [
            "Requirement already satisfied: dash-core-components in /usr/local/lib/python3.7/dist-packages (2.0.0)\n"
          ]
        }
      ]
    },
    {
      "cell_type": "markdown",
      "metadata": {
        "id": "IbtMjD_I6SI_"
      },
      "source": [
        ""
      ]
    },
    {
      "cell_type": "code",
      "metadata": {
        "colab": {
          "base_uri": "https://localhost:8080/"
        },
        "id": "0Y7ii-5A6uWH",
        "outputId": "a59281b5-d350-4df2-9cb3-c8bb7c86bbe6"
      },
      "source": [
        "!pip install scikit-learn"
      ],
      "execution_count": null,
      "outputs": [
        {
          "output_type": "stream",
          "name": "stdout",
          "text": [
            "Requirement already satisfied: scikit-learn in /usr/local/lib/python3.7/dist-packages (0.22.2.post1)\n",
            "Requirement already satisfied: numpy>=1.11.0 in /usr/local/lib/python3.7/dist-packages (from scikit-learn) (1.19.5)\n",
            "Requirement already satisfied: scipy>=0.17.0 in /usr/local/lib/python3.7/dist-packages (from scikit-learn) (1.4.1)\n",
            "Requirement already satisfied: joblib>=0.11 in /usr/local/lib/python3.7/dist-packages (from scikit-learn) (1.0.1)\n"
          ]
        }
      ]
    },
    {
      "cell_type": "code",
      "metadata": {
        "colab": {
          "base_uri": "https://localhost:8080/"
        },
        "id": "-jJ5CqOl614Q",
        "outputId": "c3ea2179-e7a6-4326-843d-3cae22c23592"
      },
      "source": [
        "!pip install gunicorn"
      ],
      "execution_count": null,
      "outputs": [
        {
          "output_type": "stream",
          "name": "stdout",
          "text": [
            "Collecting gunicorn\n",
            "  Downloading gunicorn-20.1.0-py3-none-any.whl (79 kB)\n",
            "\u001b[?25l\r\u001b[K     |████▏                           | 10 kB 22.6 MB/s eta 0:00:01\r\u001b[K     |████████▎                       | 20 kB 23.0 MB/s eta 0:00:01\r\u001b[K     |████████████▍                   | 30 kB 11.1 MB/s eta 0:00:01\r\u001b[K     |████████████████▌               | 40 kB 8.7 MB/s eta 0:00:01\r\u001b[K     |████████████████████▋           | 51 kB 5.1 MB/s eta 0:00:01\r\u001b[K     |████████████████████████▊       | 61 kB 5.6 MB/s eta 0:00:01\r\u001b[K     |████████████████████████████▉   | 71 kB 5.4 MB/s eta 0:00:01\r\u001b[K     |████████████████████████████████| 79 kB 3.5 MB/s \n",
            "\u001b[?25hRequirement already satisfied: setuptools>=3.0 in /usr/local/lib/python3.7/dist-packages (from gunicorn) (57.4.0)\n",
            "Installing collected packages: gunicorn\n",
            "Successfully installed gunicorn-20.1.0\n"
          ]
        }
      ]
    },
    {
      "cell_type": "code",
      "metadata": {
        "id": "xxPXtQx853rH"
      },
      "source": [
        "import dash\n",
        "import matplotlib\n",
        "import numpy\n",
        "import pandas\n",
        "import plotly\n",
        "import scipy\n",
        "import xgboost\n",
        "import gunicorn"
      ],
      "execution_count": null,
      "outputs": []
    },
    {
      "cell_type": "code",
      "metadata": {
        "id": "N3_K3CZ65g8-"
      },
      "source": [
        "import pandas as pd\n",
        "from sklearn.model_selection import train_test_split\n",
        "\n",
        "pd.options.mode.chained_assignment = None\n",
        "\n",
        "\n",
        "def data_preprocessing():\n",
        "    df = pd.read_csv(\"data/SCADA_data.csv\")\n",
        "    status_data_wec = pd.read_csv(\"data/status_data_wec.csv\")\n",
        "\n",
        "    df[\"Inverter avg. temp\"] = df[\n",
        "        [\n",
        "            \"CS101 : Sys 1 inverter 1 cabinet temp.\",\n",
        "            \"CS101 : Sys 1 inverter 2 cabinet temp.\",\n",
        "            \"CS101 : Sys 1 inverter 3 cabinet temp.\",\n",
        "            \"CS101 : Sys 1 inverter 4 cabinet temp.\",\n",
        "            \"CS101 : Sys 1 inverter 5 cabinet temp.\",\n",
        "            \"CS101 : Sys 1 inverter 6 cabinet temp.\",\n",
        "            \"CS101 : Sys 1 inverter 7 cabinet temp.\",\n",
        "            \"CS101 : Sys 2 inverter 1 cabinet temp.\",\n",
        "            \"CS101 : Sys 2 inverter 2 cabinet temp.\",\n",
        "            \"CS101 : Sys 2 inverter 3 cabinet temp.\",\n",
        "            \"CS101 : Sys 2 inverter 4 cabinet temp.\",\n",
        "        ]\n",
        "    ].mean(axis=1)\n",
        "    df[\"Inverter std. temp\"] = df[\n",
        "        [\n",
        "            \"CS101 : Sys 1 inverter 1 cabinet temp.\",\n",
        "            \"CS101 : Sys 1 inverter 2 cabinet temp.\",\n",
        "            \"CS101 : Sys 1 inverter 3 cabinet temp.\",\n",
        "            \"CS101 : Sys 1 inverter 4 cabinet temp.\",\n",
        "            \"CS101 : Sys 1 inverter 5 cabinet temp.\",\n",
        "            \"CS101 : Sys 1 inverter 6 cabinet temp.\",\n",
        "            \"CS101 : Sys 1 inverter 7 cabinet temp.\",\n",
        "            \"CS101 : Sys 2 inverter 1 cabinet temp.\",\n",
        "            \"CS101 : Sys 2 inverter 2 cabinet temp.\",\n",
        "            \"CS101 : Sys 2 inverter 3 cabinet temp.\",\n",
        "            \"CS101 : Sys 2 inverter 4 cabinet temp.\",\n",
        "        ]\n",
        "    ].std(axis=1)\n",
        "    df[\"Time\"] = pd.to_datetime(df[\"Time\"], dayfirst=True, errors=\"coerce\")\n",
        "    df.sort_values(by=\"Time\", axis=0, inplace=True)\n",
        "    df.reset_index(drop=True, inplace=True)\n",
        "\n",
        "    af_corr_time_wec_s = status_data_wec.loc[\n",
        "        (status_data_wec[\"Main Status\"] == 62)\n",
        "        | (status_data_wec[\"Main Status\"] == 80)\n",
        "        | (status_data_wec[\"Main Status\"] == 228)\n",
        "        | (status_data_wec[\"Main Status\"] == 60)\n",
        "        | (status_data_wec[\"Main Status\"] == 9),\n",
        "        \"Time\",\n",
        "    ]\n",
        "\n",
        "    af_corr_time_wec_s = pd.to_datetime(af_corr_time_wec_s)\n",
        "    af_corr_time_wes = af_corr_time_wec_s.round(\"10min\")\n",
        "\n",
        "    df.rename(columns={\"Error\": \"Fault\"}, inplace=True)\n",
        "    df[\"Fault\"] = [0] * len(df)\n",
        "    for i, d in enumerate(df[\"Time\"]):\n",
        "        if d in af_corr_time_wes.values:\n",
        "            df[\"Fault\"][i] = 1\n",
        "\n",
        "    nf_times = []\n",
        "    rul = []\n",
        "    for i, d in enumerate(df[\"Fault\"]):\n",
        "        nf_times.append(df[\"Time\"][i])\n",
        "        if d == 1:\n",
        "            for j in nf_times:\n",
        "                rul.append(df[\"Time\"][i] - j)\n",
        "            nf_times = []\n",
        "\n",
        "    df_trimmed = df.head(len(rul))\n",
        "\n",
        "    rul_days = [x.days for x in rul]\n",
        "    df_trimmed[\"RUL\"] = rul_days\n",
        "\n",
        "    cols_to_drop = [\n",
        "        \"Fault\",\n",
        "        \"CS101 : Sys 1 inverter 1 cabinet temp.\",\n",
        "        \"CS101 : Sys 1 inverter 2 cabinet temp.\",\n",
        "        \"CS101 : Sys 1 inverter 3 cabinet temp.\",\n",
        "        \"CS101 : Sys 1 inverter 4 cabinet temp.\",\n",
        "        \"CS101 : Sys 1 inverter 5 cabinet temp.\",\n",
        "        \"CS101 : Sys 1 inverter 6 cabinet temp.\",\n",
        "        \"CS101 : Sys 1 inverter 7 cabinet temp.\",\n",
        "        \"CS101 : Sys 2 inverter 1 cabinet temp.\",\n",
        "        \"CS101 : Sys 2 inverter 2 cabinet temp.\",\n",
        "        \"CS101 : Sys 2 inverter 3 cabinet temp.\",\n",
        "        \"CS101 : Sys 2 inverter 4 cabinet temp.\",\n",
        "    ]\n",
        "\n",
        "    for i in cols_to_drop:\n",
        "        if i in list(df):\n",
        "            df_trimmed.drop(i, axis=1, inplace=True)\n",
        "\n",
        "    df_trimmed = df_trimmed.head(39298)\n",
        "    df_trimmed.set_index(\"Time\", inplace=True)\n",
        "\n",
        "    df = df_trimmed.copy()\n",
        "    features = df.columns.tolist()\n",
        "    timesteps = 5\n",
        "\n",
        "    df_list = [\n",
        "        df[features].shift(shift_val)\n",
        "        if (shift_val == 0)\n",
        "        else df[features].shift(-shift_val).add_suffix(f\"_{shift_val}\")\n",
        "        for shift_val in range(0, timesteps)\n",
        "    ]\n",
        "    df_concat = pd.concat(df_list, axis=1, sort=False)\n",
        "    df_concat = df_concat.iloc[:-timesteps, :]\n",
        "\n",
        "    target = \"RUL\"\n",
        "    x_train, x_test, y_train, y_test = train_test_split(\n",
        "        df_concat,\n",
        "        df[target].iloc[:-timesteps],\n",
        "        test_size=0.02642894598,\n",
        "        random_state=10,\n",
        "        shuffle=False,\n",
        "    )\n",
        "\n",
        "    df_test = x_test.iloc[:, : df.shape[1]]\n",
        "\n",
        "    return df, df_test, x_test, y_test, x_train\n",
        "\n"
      ],
      "execution_count": null,
      "outputs": []
    },
    {
      "cell_type": "code",
      "metadata": {
        "colab": {
          "base_uri": "https://localhost:8080/"
        },
        "id": "pSipjM7j5bzp",
        "outputId": "b7a91823-d5b4-488d-8e0b-2f0eb4bffed6"
      },
      "source": [
        "{\n",
        "    \"scripts\": {\n",
        "        \"dokku\": {\n",
        "            \"predeploy\": \"bash predeploy.sh\"\n",
        "        }\n",
        "    }\n",
        "}"
      ],
      "execution_count": null,
      "outputs": [
        {
          "output_type": "execute_result",
          "data": {
            "text/plain": [
              "{'scripts': {'dokku': {'predeploy': 'bash predeploy.sh'}}}"
            ]
          },
          "metadata": {},
          "execution_count": 7
        }
      ]
    },
    {
      "cell_type": "code",
      "metadata": {
        "colab": {
          "base_uri": "https://localhost:8080/"
        },
        "id": "uFYssv1uxbqd",
        "outputId": "3876c203-e06e-47fd-bf30-d071bdff4070"
      },
      "source": [
        "!apt-get -qq install -y dash && pip install -U dash\n",
        "\n"
      ],
      "execution_count": null,
      "outputs": [
        {
          "output_type": "stream",
          "name": "stdout",
          "text": [
            "Requirement already satisfied: dash in /usr/local/lib/python3.7/dist-packages (2.0.0)\n",
            "Requirement already satisfied: dash-table==5.0.0 in /usr/local/lib/python3.7/dist-packages (from dash) (5.0.0)\n",
            "Requirement already satisfied: flask-compress in /usr/local/lib/python3.7/dist-packages (from dash) (1.10.1)\n",
            "Requirement already satisfied: dash-html-components==2.0.0 in /usr/local/lib/python3.7/dist-packages (from dash) (2.0.0)\n",
            "Requirement already satisfied: dash-core-components==2.0.0 in /usr/local/lib/python3.7/dist-packages (from dash) (2.0.0)\n",
            "Requirement already satisfied: plotly>=5.0.0 in /usr/local/lib/python3.7/dist-packages (from dash) (5.3.1)\n",
            "Requirement already satisfied: Flask>=1.0.4 in /usr/local/lib/python3.7/dist-packages (from dash) (1.1.4)\n",
            "Requirement already satisfied: Werkzeug<2.0,>=0.15 in /usr/local/lib/python3.7/dist-packages (from Flask>=1.0.4->dash) (1.0.1)\n",
            "Requirement already satisfied: Jinja2<3.0,>=2.10.1 in /usr/local/lib/python3.7/dist-packages (from Flask>=1.0.4->dash) (2.11.3)\n",
            "Requirement already satisfied: itsdangerous<2.0,>=0.24 in /usr/local/lib/python3.7/dist-packages (from Flask>=1.0.4->dash) (1.1.0)\n",
            "Requirement already satisfied: click<8.0,>=5.1 in /usr/local/lib/python3.7/dist-packages (from Flask>=1.0.4->dash) (7.1.2)\n",
            "Requirement already satisfied: MarkupSafe>=0.23 in /usr/local/lib/python3.7/dist-packages (from Jinja2<3.0,>=2.10.1->Flask>=1.0.4->dash) (2.0.1)\n",
            "Requirement already satisfied: six in /usr/local/lib/python3.7/dist-packages (from plotly>=5.0.0->dash) (1.15.0)\n",
            "Requirement already satisfied: tenacity>=6.2.0 in /usr/local/lib/python3.7/dist-packages (from plotly>=5.0.0->dash) (8.0.1)\n",
            "Requirement already satisfied: brotli in /usr/local/lib/python3.7/dist-packages (from flask-compress->dash) (1.0.9)\n"
          ]
        }
      ]
    },
    {
      "cell_type": "code",
      "metadata": {
        "colab": {
          "base_uri": "https://localhost:8080/"
        },
        "id": "57rUz2NNx2qk",
        "outputId": "df1e3a20-c6fe-4408-8d6b-490ee224e70d"
      },
      "source": [
        "!pip install dash_bootstrap_components"
      ],
      "execution_count": null,
      "outputs": [
        {
          "output_type": "stream",
          "name": "stdout",
          "text": [
            "Requirement already satisfied: dash_bootstrap_components in /usr/local/lib/python3.7/dist-packages (1.0.0)\n",
            "Requirement already satisfied: dash>=2.0.0 in /usr/local/lib/python3.7/dist-packages (from dash_bootstrap_components) (2.0.0)\n",
            "Requirement already satisfied: dash-table==5.0.0 in /usr/local/lib/python3.7/dist-packages (from dash>=2.0.0->dash_bootstrap_components) (5.0.0)\n",
            "Requirement already satisfied: Flask>=1.0.4 in /usr/local/lib/python3.7/dist-packages (from dash>=2.0.0->dash_bootstrap_components) (1.1.4)\n",
            "Requirement already satisfied: dash-core-components==2.0.0 in /usr/local/lib/python3.7/dist-packages (from dash>=2.0.0->dash_bootstrap_components) (2.0.0)\n",
            "Requirement already satisfied: dash-html-components==2.0.0 in /usr/local/lib/python3.7/dist-packages (from dash>=2.0.0->dash_bootstrap_components) (2.0.0)\n",
            "Requirement already satisfied: flask-compress in /usr/local/lib/python3.7/dist-packages (from dash>=2.0.0->dash_bootstrap_components) (1.10.1)\n",
            "Requirement already satisfied: plotly>=5.0.0 in /usr/local/lib/python3.7/dist-packages (from dash>=2.0.0->dash_bootstrap_components) (5.3.1)\n",
            "Requirement already satisfied: Werkzeug<2.0,>=0.15 in /usr/local/lib/python3.7/dist-packages (from Flask>=1.0.4->dash>=2.0.0->dash_bootstrap_components) (1.0.1)\n",
            "Requirement already satisfied: itsdangerous<2.0,>=0.24 in /usr/local/lib/python3.7/dist-packages (from Flask>=1.0.4->dash>=2.0.0->dash_bootstrap_components) (1.1.0)\n",
            "Requirement already satisfied: click<8.0,>=5.1 in /usr/local/lib/python3.7/dist-packages (from Flask>=1.0.4->dash>=2.0.0->dash_bootstrap_components) (7.1.2)\n",
            "Requirement already satisfied: Jinja2<3.0,>=2.10.1 in /usr/local/lib/python3.7/dist-packages (from Flask>=1.0.4->dash>=2.0.0->dash_bootstrap_components) (2.11.3)\n",
            "Requirement already satisfied: MarkupSafe>=0.23 in /usr/local/lib/python3.7/dist-packages (from Jinja2<3.0,>=2.10.1->Flask>=1.0.4->dash>=2.0.0->dash_bootstrap_components) (2.0.1)\n",
            "Requirement already satisfied: six in /usr/local/lib/python3.7/dist-packages (from plotly>=5.0.0->dash>=2.0.0->dash_bootstrap_components) (1.15.0)\n",
            "Requirement already satisfied: tenacity>=6.2.0 in /usr/local/lib/python3.7/dist-packages (from plotly>=5.0.0->dash>=2.0.0->dash_bootstrap_components) (8.0.1)\n",
            "Requirement already satisfied: brotli in /usr/local/lib/python3.7/dist-packages (from flask-compress->dash>=2.0.0->dash_bootstrap_components) (1.0.9)\n"
          ]
        }
      ]
    },
    {
      "cell_type": "code",
      "metadata": {
        "colab": {
          "base_uri": "https://localhost:8080/"
        },
        "id": "zi2ao4YayBr7",
        "outputId": "61cf6768-1d3d-478a-c7f4-14ada2da5e68"
      },
      "source": [
        "!pip install dash_daq"
      ],
      "execution_count": null,
      "outputs": [
        {
          "output_type": "stream",
          "name": "stdout",
          "text": [
            "Collecting dash_daq\n",
            "  Downloading dash_daq-0.5.0.tar.gz (642 kB)\n",
            "\u001b[?25l\r\u001b[K     |▌                               | 10 kB 20.6 MB/s eta 0:00:01\r\u001b[K     |█                               | 20 kB 24.7 MB/s eta 0:00:01\r\u001b[K     |█▌                              | 30 kB 16.5 MB/s eta 0:00:01\r\u001b[K     |██                              | 40 kB 12.0 MB/s eta 0:00:01\r\u001b[K     |██▌                             | 51 kB 5.4 MB/s eta 0:00:01\r\u001b[K     |███                             | 61 kB 5.6 MB/s eta 0:00:01\r\u001b[K     |███▋                            | 71 kB 5.4 MB/s eta 0:00:01\r\u001b[K     |████                            | 81 kB 6.0 MB/s eta 0:00:01\r\u001b[K     |████▋                           | 92 kB 5.8 MB/s eta 0:00:01\r\u001b[K     |█████                           | 102 kB 5.2 MB/s eta 0:00:01\r\u001b[K     |█████▋                          | 112 kB 5.2 MB/s eta 0:00:01\r\u001b[K     |██████▏                         | 122 kB 5.2 MB/s eta 0:00:01\r\u001b[K     |██████▋                         | 133 kB 5.2 MB/s eta 0:00:01\r\u001b[K     |███████▏                        | 143 kB 5.2 MB/s eta 0:00:01\r\u001b[K     |███████▋                        | 153 kB 5.2 MB/s eta 0:00:01\r\u001b[K     |████████▏                       | 163 kB 5.2 MB/s eta 0:00:01\r\u001b[K     |████████▊                       | 174 kB 5.2 MB/s eta 0:00:01\r\u001b[K     |█████████▏                      | 184 kB 5.2 MB/s eta 0:00:01\r\u001b[K     |█████████▊                      | 194 kB 5.2 MB/s eta 0:00:01\r\u001b[K     |██████████▏                     | 204 kB 5.2 MB/s eta 0:00:01\r\u001b[K     |██████████▊                     | 215 kB 5.2 MB/s eta 0:00:01\r\u001b[K     |███████████▏                    | 225 kB 5.2 MB/s eta 0:00:01\r\u001b[K     |███████████▊                    | 235 kB 5.2 MB/s eta 0:00:01\r\u001b[K     |████████████▎                   | 245 kB 5.2 MB/s eta 0:00:01\r\u001b[K     |████████████▊                   | 256 kB 5.2 MB/s eta 0:00:01\r\u001b[K     |█████████████▎                  | 266 kB 5.2 MB/s eta 0:00:01\r\u001b[K     |█████████████▊                  | 276 kB 5.2 MB/s eta 0:00:01\r\u001b[K     |██████████████▎                 | 286 kB 5.2 MB/s eta 0:00:01\r\u001b[K     |██████████████▉                 | 296 kB 5.2 MB/s eta 0:00:01\r\u001b[K     |███████████████▎                | 307 kB 5.2 MB/s eta 0:00:01\r\u001b[K     |███████████████▉                | 317 kB 5.2 MB/s eta 0:00:01\r\u001b[K     |████████████████▎               | 327 kB 5.2 MB/s eta 0:00:01\r\u001b[K     |████████████████▉               | 337 kB 5.2 MB/s eta 0:00:01\r\u001b[K     |█████████████████▍              | 348 kB 5.2 MB/s eta 0:00:01\r\u001b[K     |█████████████████▉              | 358 kB 5.2 MB/s eta 0:00:01\r\u001b[K     |██████████████████▍             | 368 kB 5.2 MB/s eta 0:00:01\r\u001b[K     |██████████████████▉             | 378 kB 5.2 MB/s eta 0:00:01\r\u001b[K     |███████████████████▍            | 389 kB 5.2 MB/s eta 0:00:01\r\u001b[K     |███████████████████▉            | 399 kB 5.2 MB/s eta 0:00:01\r\u001b[K     |████████████████████▍           | 409 kB 5.2 MB/s eta 0:00:01\r\u001b[K     |█████████████████████           | 419 kB 5.2 MB/s eta 0:00:01\r\u001b[K     |█████████████████████▍          | 430 kB 5.2 MB/s eta 0:00:01\r\u001b[K     |██████████████████████          | 440 kB 5.2 MB/s eta 0:00:01\r\u001b[K     |██████████████████████▍         | 450 kB 5.2 MB/s eta 0:00:01\r\u001b[K     |███████████████████████         | 460 kB 5.2 MB/s eta 0:00:01\r\u001b[K     |███████████████████████▌        | 471 kB 5.2 MB/s eta 0:00:01\r\u001b[K     |████████████████████████        | 481 kB 5.2 MB/s eta 0:00:01\r\u001b[K     |████████████████████████▌       | 491 kB 5.2 MB/s eta 0:00:01\r\u001b[K     |█████████████████████████       | 501 kB 5.2 MB/s eta 0:00:01\r\u001b[K     |█████████████████████████▌      | 512 kB 5.2 MB/s eta 0:00:01\r\u001b[K     |██████████████████████████      | 522 kB 5.2 MB/s eta 0:00:01\r\u001b[K     |██████████████████████████▌     | 532 kB 5.2 MB/s eta 0:00:01\r\u001b[K     |███████████████████████████     | 542 kB 5.2 MB/s eta 0:00:01\r\u001b[K     |███████████████████████████▌    | 552 kB 5.2 MB/s eta 0:00:01\r\u001b[K     |████████████████████████████    | 563 kB 5.2 MB/s eta 0:00:01\r\u001b[K     |████████████████████████████▌   | 573 kB 5.2 MB/s eta 0:00:01\r\u001b[K     |█████████████████████████████   | 583 kB 5.2 MB/s eta 0:00:01\r\u001b[K     |█████████████████████████████▋  | 593 kB 5.2 MB/s eta 0:00:01\r\u001b[K     |██████████████████████████████  | 604 kB 5.2 MB/s eta 0:00:01\r\u001b[K     |██████████████████████████████▋ | 614 kB 5.2 MB/s eta 0:00:01\r\u001b[K     |███████████████████████████████ | 624 kB 5.2 MB/s eta 0:00:01\r\u001b[K     |███████████████████████████████▋| 634 kB 5.2 MB/s eta 0:00:01\r\u001b[K     |████████████████████████████████| 642 kB 5.2 MB/s \n",
            "\u001b[?25hRequirement already satisfied: dash>=1.6.1 in /usr/local/lib/python3.7/dist-packages (from dash_daq) (2.0.0)\n",
            "Requirement already satisfied: Flask>=1.0.4 in /usr/local/lib/python3.7/dist-packages (from dash>=1.6.1->dash_daq) (1.1.4)\n",
            "Requirement already satisfied: flask-compress in /usr/local/lib/python3.7/dist-packages (from dash>=1.6.1->dash_daq) (1.10.1)\n",
            "Requirement already satisfied: plotly>=5.0.0 in /usr/local/lib/python3.7/dist-packages (from dash>=1.6.1->dash_daq) (5.3.1)\n",
            "Requirement already satisfied: dash-core-components==2.0.0 in /usr/local/lib/python3.7/dist-packages (from dash>=1.6.1->dash_daq) (2.0.0)\n",
            "Requirement already satisfied: dash-html-components==2.0.0 in /usr/local/lib/python3.7/dist-packages (from dash>=1.6.1->dash_daq) (2.0.0)\n",
            "Requirement already satisfied: dash-table==5.0.0 in /usr/local/lib/python3.7/dist-packages (from dash>=1.6.1->dash_daq) (5.0.0)\n",
            "Requirement already satisfied: itsdangerous<2.0,>=0.24 in /usr/local/lib/python3.7/dist-packages (from Flask>=1.0.4->dash>=1.6.1->dash_daq) (1.1.0)\n",
            "Requirement already satisfied: click<8.0,>=5.1 in /usr/local/lib/python3.7/dist-packages (from Flask>=1.0.4->dash>=1.6.1->dash_daq) (7.1.2)\n",
            "Requirement already satisfied: Werkzeug<2.0,>=0.15 in /usr/local/lib/python3.7/dist-packages (from Flask>=1.0.4->dash>=1.6.1->dash_daq) (1.0.1)\n",
            "Requirement already satisfied: Jinja2<3.0,>=2.10.1 in /usr/local/lib/python3.7/dist-packages (from Flask>=1.0.4->dash>=1.6.1->dash_daq) (2.11.3)\n",
            "Requirement already satisfied: MarkupSafe>=0.23 in /usr/local/lib/python3.7/dist-packages (from Jinja2<3.0,>=2.10.1->Flask>=1.0.4->dash>=1.6.1->dash_daq) (2.0.1)\n",
            "Requirement already satisfied: six in /usr/local/lib/python3.7/dist-packages (from plotly>=5.0.0->dash>=1.6.1->dash_daq) (1.15.0)\n",
            "Requirement already satisfied: tenacity>=6.2.0 in /usr/local/lib/python3.7/dist-packages (from plotly>=5.0.0->dash>=1.6.1->dash_daq) (8.0.1)\n",
            "Requirement already satisfied: brotli in /usr/local/lib/python3.7/dist-packages (from flask-compress->dash>=1.6.1->dash_daq) (1.0.9)\n",
            "Building wheels for collected packages: dash-daq\n",
            "  Building wheel for dash-daq (setup.py) ... \u001b[?25l\u001b[?25hdone\n",
            "  Created wheel for dash-daq: filename=dash_daq-0.5.0-py3-none-any.whl size=669716 sha256=150ccc749c895c828256cd7406cf8b2223d86c20f7d812c8c514659580da5b49\n",
            "  Stored in directory: /root/.cache/pip/wheels/fe/54/53/a8d448db5592874db4313240571ca2c069e55f6a6b29bf5847\n",
            "Successfully built dash-daq\n",
            "Installing collected packages: dash-daq\n",
            "Successfully installed dash-daq-0.5.0\n"
          ]
        }
      ]
    },
    {
      "cell_type": "code",
      "metadata": {
        "id": "ZLDrnsOo2D32",
        "colab": {
          "base_uri": "https://localhost:8080/"
        },
        "outputId": "08406c59-d790-4e5e-919e-40c0754b645e"
      },
      "source": [
        "import dash\n",
        "from dash import dash\n",
        "import dash_core_components as dcc\n",
        "import dash_html_components as html\n",
        "from dash.dependencies import Input, Output\n",
        "import plotly.graph_objs as go\n",
        "import psycopg2\n",
        "import os\n",
        "import flask\n"
      ],
      "execution_count": null,
      "outputs": [
        {
          "output_type": "stream",
          "name": "stderr",
          "text": [
            "/usr/local/lib/python3.7/dist-packages/ipykernel_launcher.py:3: UserWarning: \n",
            "The dash_core_components package is deprecated. Please replace\n",
            "`import dash_core_components as dcc` with `from dash import dcc`\n",
            "  This is separate from the ipykernel package so we can avoid doing imports until\n",
            "/usr/local/lib/python3.7/dist-packages/ipykernel_launcher.py:4: UserWarning: \n",
            "The dash_html_components package is deprecated. Please replace\n",
            "`import dash_html_components as html` with `from dash import html`\n",
            "  after removing the cwd from sys.path.\n",
            "/usr/local/lib/python3.7/dist-packages/psycopg2/__init__.py:144: UserWarning: The psycopg2 wheel package will be renamed from release 2.8; in order to keep installing from binary please use \"pip install psycopg2-binary\" instead. For details see: <http://initd.org/psycopg/docs/install.html#binary-install-from-pypi>.\n",
            "  \"\"\")\n"
          ]
        }
      ]
    },
    {
      "cell_type": "code",
      "metadata": {
        "id": "woAbSkzT4jcu"
      },
      "source": [
        "#app.run_server(host='0.0.0.0', port=8050, debug=True)"
      ],
      "execution_count": null,
      "outputs": []
    },
    {
      "cell_type": "code",
      "metadata": {
        "id": "98b6AFZE4JeI"
      },
      "source": [
        "#app.run_server(host='0.0.0.0', debug=True)"
      ],
      "execution_count": null,
      "outputs": []
    },
    {
      "cell_type": "code",
      "metadata": {
        "colab": {
          "base_uri": "https://localhost:8080/"
        },
        "id": "cLxghaR2O4YR",
        "outputId": "cd1665a2-3974-4e23-ac75-7e40b25d9026"
      },
      "source": [
        "!pip install data_preprocessing"
      ],
      "execution_count": null,
      "outputs": [
        {
          "output_type": "stream",
          "name": "stdout",
          "text": [
            "Collecting data_preprocessing\n",
            "  Downloading data_preprocessing-0.0.2.tar.gz (4.2 kB)\n",
            "Building wheels for collected packages: data-preprocessing\n",
            "  Building wheel for data-preprocessing (setup.py) ... \u001b[?25l\u001b[?25hdone\n",
            "  Created wheel for data-preprocessing: filename=data_preprocessing-0.0.2-py3-none-any.whl size=4838 sha256=af095f448ed022c32a64e63080a1ef1af48a0565e395d174fd9f7a680d5de74b\n",
            "  Stored in directory: /root/.cache/pip/wheels/d2/43/01/68e44dc30445fdc00258dde46da495f4a925379a3071cf102e\n",
            "Successfully built data-preprocessing\n",
            "Installing collected packages: data-preprocessing\n",
            "Successfully installed data-preprocessing-0.0.2\n"
          ]
        }
      ]
    },
    {
      "cell_type": "code",
      "metadata": {
        "id": "4utByWqqrpE0",
        "colab": {
          "base_uri": "https://localhost:8080/",
          "height": 231
        },
        "outputId": "2076bd44-b78b-4f56-a9ac-43c748eb7d27"
      },
      "source": [
        "import pandas as pd\n",
        "import dash\n",
        "import dash_bootstrap_components as dbc\n",
        "import dash_core_components as dcc\n",
        "import dash_html_components as html\n",
        "import dash_daq as daq\n",
        "\n",
        "import plotly.graph_objs as go\n",
        "from dash.dependencies import Input, Output, State\n",
        "from datetime import datetime, date\n",
        "from data_preprocessing import data_preprocessing\n",
        "import pickle\n",
        "\n",
        "app = dash.Dash(\n",
        "    __name__,\n",
        "    meta_tags=[{\"name\": \"viewport\", \"content\": \"width=device-width, initial-scale=1\"}],\n",
        "    external_stylesheets=[dbc.themes.CYBORG],\n",
        ")\n",
        "server = app.server\n",
        "app.title = \"Predictive Maintenance Dashboard\"\n",
        "\n",
        "\n",
        "def logo(app):\n",
        "    title = html.H5(\n",
        "        \"PREDICTIVE MAINTENANCE DASHBOARD FOR WIND TURBINES\",\n",
        "        style={\"marginTop\": 5, \"marginLeft\": \"10px\"},\n",
        "    )\n",
        "\n",
        "    info_about_app = html.H6(\n",
        "        \"This Dashboard is focused on estimating the Remaining Useful Life (RUL) in wind turbines via Machine Learning.\"\n",
        "        \" RUL is defined as the time until the next fault and estimated via XGBoost algorithm.\",\n",
        "        style={\"marginLeft\": \"10px\"},\n",
        "    )\n",
        "\n",
        "    logo_image = html.Img(\n",
        "        src=app.get_asset_url(\"dash-logo.png\"), style={\"float\": \"right\", \"height\": 50}\n",
        "    )\n",
        "    link = html.A(logo_image, href=\"https://plotly.com/dash/\")\n",
        "\n",
        "    return dbc.Row(\n",
        "        [dbc.Col([dbc.Row([title]), dbc.Row([info_about_app])]), dbc.Col(link)]\n",
        "    )\n",
        "\n",
        "\n",
        "df, df_button, x_test, y_test, x_train = data_preprocessing()\n",
        "\n",
        "predict_button = dbc.Card(\n",
        "    className=\"mt-auto\",\n",
        "    children=[\n",
        "        dbc.CardBody(\n",
        "            [\n",
        "                html.Div(\n",
        "                    [\n",
        "                        dbc.Button(\n",
        "                            \"Predict\",\n",
        "                            id=\"predict-button\",\n",
        "                            color=\"primary\",\n",
        "                            outline=True,\n",
        "                            size=\"lg\",\n",
        "                            style={\"color\": \"#fec036\"},\n",
        "                        ),\n",
        "                    ]\n",
        "                )\n",
        "            ],\n",
        "            style={\n",
        "                \"text-align\": \"center\",\n",
        "                \"backgroundColor\": \"black\",\n",
        "                \"border-radius\": \"1px\",\n",
        "                \"border-width\": \"5px\",\n",
        "                \"border-top\": \"1px solid rgb(216, 216, 216)\",\n",
        "                \"border-left\": \"1px solid rgb(216, 216, 216)\",\n",
        "                \"border-right\": \"1px solid rgb(216, 216, 216)\",\n",
        "                \"border-bottom\": \"1px solid rgb(216, 216, 216)\",\n",
        "            },\n",
        "        )\n",
        "    ],\n",
        ")\n",
        "\n",
        "get_new_information_button = dbc.Card(\n",
        "    className=\"mt-auto\",\n",
        "    children=[\n",
        "        dbc.CardBody(\n",
        "            [\n",
        "                html.Div(\n",
        "                    [\n",
        "                        dbc.Button(\n",
        "                            \"Get New Data\",\n",
        "                            id=\"get-new-info-button\",\n",
        "                            color=\"primary\",\n",
        "                            outline=True,\n",
        "                            size=\"lg\",\n",
        "                            style={\"color\": \"#fec036\"},\n",
        "                        ),\n",
        "                    ]\n",
        "                )\n",
        "            ],\n",
        "            style={\n",
        "                \"text-align\": \"center\",\n",
        "                \"backgroundColor\": \"black\",\n",
        "                \"border-radius\": \"1px\",\n",
        "                \"border-width\": \"5px\",\n",
        "                \"border-top\": \"1px solid rgb(216, 216, 216)\",\n",
        "                \"border-left\": \"1px solid rgb(216, 216, 216)\",\n",
        "                \"border-right\": \"1px solid rgb(216, 216, 216)\",\n",
        "                \"border-bottom\": \"1px solid rgb(216, 216, 216)\",\n",
        "            },\n",
        "        )\n",
        "    ],\n",
        ")\n",
        "\n",
        "graphs = dbc.Card(\n",
        "    children=[\n",
        "        dbc.CardBody(\n",
        "            [\n",
        "                html.Div(\n",
        "                    [\n",
        "                        dcc.Graph(\n",
        "                            id=\"Main-Graph\",\n",
        "                            figure={\n",
        "                                \"layout\": {\n",
        "                                    \"margin\": {\"t\": 30, \"r\": 35, \"b\": 40, \"l\": 50},\n",
        "                                    \"xaxis\": {\n",
        "                                        \"dtick\": 5,\n",
        "                                        \"gridcolor\": \"#636363\",\n",
        "                                        \"showline\": False,\n",
        "                                    },\n",
        "                                    \"yaxis\": {\"showgrid\": False, \"showline\": False},\n",
        "                                    \"plot_bgcolor\": \"black\",\n",
        "                                    \"paper_bgcolor\": \"black\",\n",
        "                                    \"font\": {\"color\": \"gray\"},\n",
        "                                },\n",
        "                            },\n",
        "                            config={\"displayModeBar\": False},\n",
        "                        ),\n",
        "                        html.Pre(id=\"update-on-click-data\"),\n",
        "                    ],\n",
        "                    style={\"width\": \"98%\", \"display\": \"inline-block\"},\n",
        "                ),\n",
        "                html.Div(\n",
        "                    [\n",
        "                        dcc.Dropdown(\n",
        "                            id=\"feature-dropdown\",\n",
        "                            options=[\n",
        "                                {\"label\": label, \"value\": label} for label in df.columns\n",
        "                            ],\n",
        "                            value=\"\",\n",
        "                            multi=False,\n",
        "                            searchable=False,\n",
        "                        )\n",
        "                    ],\n",
        "                    style={\n",
        "                        \"width\": \"33%\",\n",
        "                        \"display\": \"inline-block\",\n",
        "                        \"color\": \"black\",\n",
        "                    },\n",
        "                ),\n",
        "                html.Div(\n",
        "                    [\n",
        "                        dcc.DatePickerRange(\n",
        "                            id=\"date-picker\",\n",
        "                            min_date_allowed=x_train.index[0],  # need to change this\n",
        "                            max_date_allowed=x_train.index[-1],\n",
        "                            initial_visible_month=x_train.index[0],\n",
        "                            start_date_placeholder_text=\"Start Period\",\n",
        "                            end_date_placeholder_text=\"End Period\",\n",
        "                            calendar_orientation=\"vertical\",\n",
        "                        ),\n",
        "                        html.Div(id=\"output-container-date-picker-range\"),\n",
        "                    ],\n",
        "                    style={\n",
        "                        \"vertical-align\": \"top\",\n",
        "                        \"position\": \"absolute\",\n",
        "                        \"right\": \"3%\",\n",
        "                        \"float\": \"right\",\n",
        "                        \"display\": \"inline-block\",\n",
        "                        \"color\": \"black\",\n",
        "                    },\n",
        "                ),\n",
        "            ],\n",
        "            style={\n",
        "                \"backgroundColor\": \"black\",\n",
        "                \"border-radius\": \"1px\",\n",
        "                \"border-width\": \"5px\",\n",
        "                \"border-top\": \"1px solid rgb(216, 216, 216)\",\n",
        "            },\n",
        "        )\n",
        "    ]\n",
        ")\n",
        "\n",
        "rul_estimation_indicator = dbc.Card(\n",
        "    children=[\n",
        "        dbc.CardHeader(\n",
        "            \"System RUL Estimation (days)\",\n",
        "            style={\n",
        "                \"text-align\": \"center\",\n",
        "                \"color\": \"white\",\n",
        "                \"backgroundColor\": \"black\",\n",
        "                \"border-radius\": \"1px\",\n",
        "                \"border-width\": \"5px\",\n",
        "                \"border-top\": \"1px solid rgb(216, 216, 216)\",\n",
        "            },\n",
        "        ),\n",
        "        dbc.CardBody(\n",
        "            [\n",
        "                daq.LEDDisplay(\n",
        "                    id=\"rul-estimation-indicator-led\",\n",
        "                    size=24,\n",
        "                    color=\"#fec036\",\n",
        "                    style={\"color\": \"#black\"},\n",
        "                    backgroundColor=\"#2b2b2b\",\n",
        "                    value=\"0.0\",\n",
        "                )\n",
        "            ],\n",
        "            style={\n",
        "                \"text-align\": \"center\",\n",
        "                \"backgroundColor\": \"black\",\n",
        "                \"border-radius\": \"1px\",\n",
        "                \"border-width\": \"5px\",\n",
        "                \"border-top\": \"1px solid rgb(216, 216, 216)\",\n",
        "            },\n",
        "        ),\n",
        "    ]\n",
        ")\n",
        "\n",
        "info_box = dbc.Card(\n",
        "    children=[\n",
        "        dbc.CardBody(\n",
        "            [\n",
        "                html.Div(\n",
        "                    dcc.Textarea(\n",
        "                        id=\"Info-Textbox\",\n",
        "                        placeholder=\"This field is used to display information about a feature displayed \"\n",
        "                                    \"on the graph and estimated RUL. In order to estimate the RUL, use \"\n",
        "                                    \"the button 'Get New Data' and then, 'Predict'. The estimated RUL will be \"\n",
        "                                    \"printed.\",\n",
        "                        rows=8,\n",
        "                        style={\n",
        "                            \"width\": \"100%\",\n",
        "                            \"height\": \"100%\",\n",
        "                            \"background-color\": \"black\",\n",
        "                            \"color\": \"#fec036\",\n",
        "                            \"placeholder\": \"#fec036\",\n",
        "                            \"fontFamily\": \"Arial\",\n",
        "                            \"fontSize\": \"16\",\n",
        "                            \"padding\": \"12px\",\n",
        "                            \"display\": \"inline-block\",\n",
        "                        },\n",
        "                    )\n",
        "                )\n",
        "            ],\n",
        "            style={\n",
        "                \"backgroundColor\": \"black\",\n",
        "                \"border-radius\": \"1px\",\n",
        "                \"border-width\": \"5px\",\n",
        "                \"border-top\": \"1px solid rgb(216, 216, 216)\",\n",
        "            },\n",
        "        ),\n",
        "    ],\n",
        ")\n",
        "\n",
        "blade_angle_display = dbc.Card(\n",
        "    children=[\n",
        "        dbc.CardHeader(\n",
        "            \"Blade Angle\",\n",
        "            style={\n",
        "                \"text-align\": \"center\",\n",
        "                \"color\": \"white\",\n",
        "                \"backgroundColor\": \"black\",\n",
        "                \"border-radius\": \"1px\",\n",
        "                \"border-width\": \"5px\",\n",
        "                \"border-top\": \"1px solid rgb(216, 216, 216)\",\n",
        "            },\n",
        "        ),\n",
        "        dbc.CardBody(\n",
        "            [\n",
        "                html.Div(\n",
        "                    daq.Gauge(\n",
        "                        id=\"blade-angle-information-gauge\",\n",
        "                        min=min(df[\"WEC: ava. blade angle A\"]),\n",
        "                        max=max(\n",
        "                            df[\"WEC: ava. blade angle A\"]\n",
        "                        ),\n",
        "                        value=0,\n",
        "                        showCurrentValue=True,\n",
        "                        color=\"#fec036\",\n",
        "                        style={\n",
        "                            \"align\": \"center\",\n",
        "                            \"display\": \"flex\",\n",
        "                            \"marginTop\": \"5%\",\n",
        "                            \"marginBottom\": \"-10%\",\n",
        "                        },\n",
        "                    ),\n",
        "                    className=\"m-auto\",\n",
        "                    style={\n",
        "                        \"display\": \"flex\",\n",
        "                        \"backgroundColor\": \"black\",\n",
        "                        \"border-radius\": \"1px\",\n",
        "                        \"border-width\": \"5px\",\n",
        "                    },\n",
        "                )\n",
        "            ],\n",
        "            className=\"d-flex\",\n",
        "            style={\n",
        "                \"backgroundColor\": \"black\",\n",
        "                \"border-radius\": \"1px\",\n",
        "                \"border-width\": \"5px\",\n",
        "                \"border-top\": \"1px solid rgb(216, 216, 216)\",\n",
        "            },\n",
        "        ),\n",
        "    ],\n",
        "    style={\"height\": \"95%\"},\n",
        ")\n",
        "\n",
        "active_power_display = dbc.Card(\n",
        "    children=[\n",
        "        dbc.CardHeader(\n",
        "            \"Active Power [kW]\",\n",
        "            style={\n",
        "                \"text-align\": \"center\",\n",
        "                \"color\": \"white\",\n",
        "                \"backgroundColor\": \"black\",\n",
        "                \"border-radius\": \"1px\",\n",
        "                \"border-width\": \"5px\",\n",
        "                \"border-top\": \"1px solid rgb(216, 216, 216)\",\n",
        "            },\n",
        "        ),\n",
        "        dbc.CardBody(\n",
        "            [\n",
        "                html.Div(\n",
        "                    daq.Gauge(\n",
        "                        id=\"active-power-information-gauge\",\n",
        "                        min=min(df[\"WEC: ava. Power\"]),\n",
        "                        max=max(\n",
        "                            df[\"WEC: ava. Power\"]\n",
        "                        ),  # This one should be the theoretical maximum\n",
        "                        value=100,\n",
        "                        showCurrentValue=True,\n",
        "                        color=\"#fec036\",\n",
        "                        style={\n",
        "                            \"align\": \"center\",\n",
        "                            \"display\": \"flex\",\n",
        "                            \"marginTop\": \"5%\",\n",
        "                            \"marginBottom\": \"-10%\",\n",
        "                        },\n",
        "                    ),\n",
        "                    className=\"m-auto\",\n",
        "                    style={\n",
        "                        \"display\": \"flex\",\n",
        "                        \"backgroundColor\": \"black\",\n",
        "                        \"border-radius\": \"1px\",\n",
        "                        \"border-width\": \"5px\",\n",
        "                    },\n",
        "                )\n",
        "            ],\n",
        "            className=\"d-flex\",\n",
        "            style={\n",
        "                \"backgroundColor\": \"black\",\n",
        "                \"border-radius\": \"1px\",\n",
        "                \"border-width\": \"5px\",\n",
        "                \"border-top\": \"1px solid rgb(216, 216, 216)\",\n",
        "            },\n",
        "        ),\n",
        "    ],\n",
        "    style={\"height\": \"95%\"},\n",
        ")\n",
        "\n",
        "active_power_from_wind_display = dbc.Card(\n",
        "    children=[\n",
        "        dbc.CardHeader(\n",
        "            \"Active Power Available from Wind [kW]\",\n",
        "            style={\n",
        "                \"display\": \"inline-block\",\n",
        "                \"text-align\": \"center\",\n",
        "                \"color\": \"white\",\n",
        "                \"backgroundColor\": \"black\",\n",
        "                \"border-radius\": \"1px\",\n",
        "                \"border-width\": \"5px\",\n",
        "                \"border-top\": \"1px solid rgb(216, 216, 216)\",\n",
        "            },\n",
        "        ),\n",
        "        dbc.CardBody(\n",
        "            [\n",
        "                html.Div(\n",
        "                    daq.Gauge(\n",
        "                        id=\"active-power-from-wind-information-gauge\",\n",
        "                        min=min(df[\"WEC: ava. available P from wind\"]),\n",
        "                        max=max(df[\"WEC: ava. available P from wind\"]),\n",
        "                        value=10,\n",
        "                        showCurrentValue=True,\n",
        "                        color=\"#fec036\",\n",
        "                        style={\n",
        "                            \"align\": \"center\",\n",
        "                            \"display\": \"flex\",\n",
        "                            \"marginTop\": \"5%\",\n",
        "                            \"marginBottom\": \"-10%\",\n",
        "                        },\n",
        "                    ),\n",
        "                    className=\"m-auto\",\n",
        "                    style={\n",
        "                        \"display\": \"flex\",\n",
        "                        \"backgroundColor\": \"black\",\n",
        "                        \"border-radius\": \"1px\",\n",
        "                        \"border-width\": \"5px\",\n",
        "                    },\n",
        "                )\n",
        "            ],\n",
        "            className=\"d-flex\",\n",
        "            style={\n",
        "                \"backgroundColor\": \"black\",\n",
        "                \"border-radius\": \"1px\",\n",
        "                \"border-width\": \"5px\",\n",
        "                \"border-top\": \"1px solid rgb(216, 216, 216)\",\n",
        "            },\n",
        "        ),\n",
        "    ],\n",
        "    style={\"height\": \"95%\"},\n",
        ")\n",
        "\n",
        "wind_speed_information = dbc.Card(\n",
        "    className=\"mt-auto\",\n",
        "    children=[\n",
        "        dbc.CardHeader(\n",
        "            \"Wind Speed [m/s]\",\n",
        "            style={\n",
        "                \"text-align\": \"center\",\n",
        "                \"color\": \"white\",\n",
        "                \"backgroundColor\": \"black\",\n",
        "                \"border-radius\": \"1px\",\n",
        "                \"border-width\": \"5px\",\n",
        "                \"border-top\": \"1px solid rgb(216, 216, 216)\",\n",
        "            },\n",
        "        ),\n",
        "        dbc.CardBody(\n",
        "            [\n",
        "                html.Div(\n",
        "                    daq.Gauge(\n",
        "                        id=\"wind-power-information-gauge\",\n",
        "                        min=min(df[\"WEC: ava. windspeed\"]),\n",
        "                        max=int(max(df[\"WEC: ava. windspeed\"])),\n",
        "                        value=0,\n",
        "                        showCurrentValue=True,\n",
        "                        color=\"#fec036\",\n",
        "                        style={\n",
        "                            \"align\": \"center\",\n",
        "                            \"display\": \"flex\",\n",
        "                            \"marginTop\": \"5%\",\n",
        "                            \"marginBottom\": \"-10%\",\n",
        "                        },\n",
        "                    ),\n",
        "                    className=\"m-auto\",\n",
        "                    style={\n",
        "                        \"display\": \"flex\",\n",
        "                        \"backgroundColor\": \"black\",\n",
        "                        \"border-radius\": \"1px\",\n",
        "                        \"border-width\": \"5px\",\n",
        "                    },\n",
        "                )\n",
        "            ],\n",
        "            className=\"d-flex\",\n",
        "            style={\n",
        "                \"backgroundColor\": \"black\",\n",
        "                \"border-radius\": \"1px\",\n",
        "                \"border-width\": \"5px\",\n",
        "                \"border-top\": \"1px solid rgb(216, 216, 216)\",\n",
        "            },\n",
        "        ),\n",
        "    ],\n",
        "    style={\"height\": \"95%\"},\n",
        ")\n",
        "\n",
        "reactive_power_display = dbc.Card(\n",
        "    className=\"mt-auto\",\n",
        "    children=[\n",
        "        dbc.CardHeader(\n",
        "            \"Reactive Power [kVAR]\",\n",
        "            style={\n",
        "                \"text-align\": \"center\",\n",
        "                \"color\": \"white\",\n",
        "                \"backgroundColor\": \"black\",\n",
        "                \"border-radius\": \"1px\",\n",
        "                \"border-width\": \"5px\",\n",
        "                \"border-top\": \"1px solid rgb(216, 216, 216)\",\n",
        "            },\n",
        "        ),\n",
        "        dbc.CardBody(\n",
        "            [\n",
        "                html.Div(\n",
        "                    daq.Gauge(\n",
        "                        id=\"reactive-power-information-gauge\",\n",
        "                        min=min(df[\"WEC: ava. reactive Power\"]),\n",
        "                        max=max(df[\"WEC: ava. reactive Power\"]),\n",
        "                        value=0,\n",
        "                        showCurrentValue=True,\n",
        "                        color=\"#fec036\",\n",
        "                        style={\n",
        "                            \"align\": \"center\",\n",
        "                            \"display\": \"flex\",\n",
        "                            \"marginTop\": \"5%\",\n",
        "                            \"marginBottom\": \"-10%\",\n",
        "                        },\n",
        "                    ),\n",
        "                    className=\"m-auto\",\n",
        "                    style={\n",
        "                        \"display\": \"flex\",\n",
        "                        \"backgroundColor\": \"black\",\n",
        "                        \"border-radius\": \"1px\",\n",
        "                        \"border-width\": \"5px\",\n",
        "                    },\n",
        "                )\n",
        "            ],\n",
        "            className=\"d-flex\",\n",
        "            style={\n",
        "                \"backgroundColor\": \"black\",\n",
        "                \"border-radius\": \"1px\",\n",
        "                \"border-width\": \"5px\",\n",
        "                \"border-top\": \"1px solid rgb(216, 216, 216)\",\n",
        "            },\n",
        "        ),\n",
        "    ],\n",
        "    style={\"height\": \"95%\"},\n",
        ")\n",
        "\n",
        "gauge_size = \"auto\"\n",
        "sidebar_size = 12\n",
        "graph_size = 10\n",
        "app.layout = dbc.Container(\n",
        "    fluid=True,\n",
        "    children=[\n",
        "        logo(app),\n",
        "        dbc.Row(\n",
        "            [\n",
        "                dbc.Col(\n",
        "                    [\n",
        "                        dbc.Row(dbc.Col(rul_estimation_indicator,\n",
        "                                        xs=sidebar_size,\n",
        "                                        md=sidebar_size,\n",
        "                                        lg=sidebar_size,\n",
        "                                        width=sidebar_size)\n",
        "                                ),\n",
        "                        dbc.Row(dbc.Col(info_box,\n",
        "                                        xs=sidebar_size,\n",
        "                                        md=sidebar_size,\n",
        "                                        lg=sidebar_size,\n",
        "                                        width=sidebar_size)\n",
        "                                ),\n",
        "                        dbc.Row(dbc.Col(get_new_information_button,\n",
        "                                        xs=sidebar_size,\n",
        "                                        md=sidebar_size,\n",
        "                                        lg=sidebar_size,\n",
        "                                        width=sidebar_size)\n",
        "                                ),\n",
        "                        dbc.Row(dbc.Col(predict_button,\n",
        "                                        xs=sidebar_size,\n",
        "                                        md=sidebar_size,\n",
        "                                        lg=sidebar_size,\n",
        "                                        width=sidebar_size)\n",
        "                                ),\n",
        "                    ]\n",
        "                ),\n",
        "                dbc.Col(graphs,\n",
        "                        xs=graph_size,\n",
        "                        md=graph_size,\n",
        "                        lg=graph_size,\n",
        "                        width=graph_size)\n",
        "            ],\n",
        "            # justify='start',\n",
        "            style={\n",
        "                \"display\": \"flex\",\n",
        "                \"marginBottom\": \"-3%\"\n",
        "                   },\n",
        "        ),\n",
        "        dbc.Row(\n",
        "            [\n",
        "                dbc.Col(active_power_display,\n",
        "                        xs=gauge_size,\n",
        "                        md=gauge_size,\n",
        "                        lg=gauge_size,\n",
        "                        width=gauge_size),\n",
        "                dbc.Col(active_power_from_wind_display,\n",
        "                        xs=gauge_size,\n",
        "                        md=gauge_size,\n",
        "                        lg=gauge_size,\n",
        "                        width=gauge_size),\n",
        "                dbc.Col(reactive_power_display,\n",
        "                        xs=gauge_size,\n",
        "                        md=gauge_size,\n",
        "                        lg=gauge_size,\n",
        "                        width=gauge_size),\n",
        "                dbc.Col(wind_speed_information,\n",
        "                        xs=gauge_size,\n",
        "                        md=gauge_size,\n",
        "                        lg=gauge_size,\n",
        "                        width=gauge_size),\n",
        "                dbc.Col(blade_angle_display,\n",
        "                        xs=gauge_size,\n",
        "                        md=gauge_size,\n",
        "                        lg=gauge_size,\n",
        "                        width=gauge_size),\n",
        "            ],\n",
        "            justify='end',\n",
        "            style={\n",
        "                \"marginTop\": \"3%\"\n",
        "            },\n",
        "        ),\n",
        "    ],\n",
        ")\n",
        "\n",
        "\n",
        "def fig_update_layout(fig):\n",
        "    fig.update_layout(\n",
        "        xaxis=dict(\n",
        "            showline=False,\n",
        "            showgrid=False,\n",
        "            showticklabels=True,\n",
        "            zeroline=False,\n",
        "            gridcolor=\"#636363\",\n",
        "            linecolor=\"rgb(204, 204, 204)\",\n",
        "            linewidth=2,\n",
        "            tickfont=dict(family=\"Arial\", size=12, color=\"white\", ),\n",
        "            title=dict(font=dict(family=\"Arial\", size=24, color=\"#fec036\"), ),\n",
        "        ),\n",
        "        yaxis=dict(\n",
        "            showline=False,\n",
        "            showgrid=False,\n",
        "            showticklabels=True,\n",
        "            zeroline=False,\n",
        "            gridcolor=\"#636363\",\n",
        "            linecolor=\"rgb(204, 204, 204)\",\n",
        "            linewidth=2,\n",
        "            tickfont=dict(family=\"Arial\", size=12, color=\"white\", ),\n",
        "            title=dict(font=dict(family=\"Arial\", size=24, color=\"#fec036\"), ),\n",
        "        ),\n",
        "        autosize=True,\n",
        "        margin=dict(autoexpand=True, l=50, b=40, r=35, t=30),\n",
        "        showlegend=False,\n",
        "        paper_bgcolor=\"black\",\n",
        "        plot_bgcolor=\"black\",\n",
        "        title=dict(\n",
        "            font=dict(family=\"Arial\", size=32, color=\"darkgray\"),\n",
        "            xanchor=\"center\",\n",
        "            yanchor=\"top\",\n",
        "            y=1,\n",
        "            x=0.5,\n",
        "        ),\n",
        "    )\n",
        "    return fig\n",
        "\n",
        "\n",
        "@app.callback(\n",
        "    [\n",
        "        Output(\"Main-Graph\", \"figure\"),\n",
        "        Output(\"rul-estimation-indicator-led\", \"value\"),\n",
        "        Output(\"Info-Textbox\", \"value\"),\n",
        "    ],\n",
        "    [\n",
        "        Input(\"feature-dropdown\", \"value\"),\n",
        "        Input(\"date-picker\", \"start_date\"),\n",
        "        Input(\"date-picker\", \"end_date\"),\n",
        "        Input(\"get-new-info-button\", \"n_clicks\"),\n",
        "        Input(\"predict-button\", \"n_clicks\"),\n",
        "    ],\n",
        ")\n",
        "def update_graph(selected_column, start_date, end_date, n_get_new_info, n_pred):\n",
        "    if n_pred is None:  # here is my work before prediction button is activated.\n",
        "        value_rul = 0.0\n",
        "        information_update = (\n",
        "            \"This field is used to display information about a feature displayed \"\n",
        "            \"on the graph and estimated RUL. In order to estimate the RUL, use \"\n",
        "            \"the button 'Get New Data' and then, 'Predict'. The estimated RUL will be \"\n",
        "            \"printed.\"\n",
        "        )\n",
        "        if n_get_new_info is None:\n",
        "            if selected_column in list(df):\n",
        "                if start_date and end_date:\n",
        "                    start_date_object = datetime.strptime(start_date, \"%Y-%m-%d\")\n",
        "                    end_date_object = datetime.strptime(end_date, \"%Y-%m-%d\")\n",
        "                    mask = (df.index > start_date_object) & (\n",
        "                            df.index <= end_date_object\n",
        "                    )\n",
        "                    df_within_dates = df.loc[mask]\n",
        "                    fig = go.Figure(\n",
        "                        data=[\n",
        "                            go.Scatter(\n",
        "                                x=df_within_dates.index,\n",
        "                                y=df_within_dates[selected_column],\n",
        "                            )\n",
        "                        ]\n",
        "                    )\n",
        "                    fig = fig_update_layout(fig)\n",
        "                    return fig, value_rul, information_update\n",
        "                elif start_date:\n",
        "                    start_date_object = datetime.strptime(start_date, \"%Y-%m-%d\")\n",
        "                    mask = df.index > start_date_object\n",
        "                    df_within_dates = df.loc[mask]\n",
        "                    fig = go.Figure(\n",
        "                        data=[\n",
        "                            go.Scatter(\n",
        "                                x=df_within_dates.index,\n",
        "                                y=df_within_dates[selected_column],\n",
        "                            )\n",
        "                        ]\n",
        "                    )\n",
        "                    fig = fig_update_layout(fig)\n",
        "                    return fig, value_rul, information_update\n",
        "                else:\n",
        "                    fig = go.Figure(\n",
        "                        data=[go.Scatter(x=df.index, y=df[selected_column])]\n",
        "                    )\n",
        "                    fig = fig_update_layout(fig)\n",
        "                    return fig, value_rul, information_update\n",
        "            else:\n",
        "                fig = go.Figure(\n",
        "                    data=[go.Scatter(x=df.index, y=df[\"WEC: ava. windspeed\"])]\n",
        "                )\n",
        "                fig = fig_update_layout(fig)\n",
        "                return fig, value_rul, information_update\n",
        "        else:\n",
        "            _information_update = (\n",
        "                            \"New information is received for the last week and covers periods from \"\n",
        "                            + str(df_button.index[0])\n",
        "                            + \" to \"\n",
        "                            + str(df_button.index[-1])\n",
        "                            + \". To predict\"\n",
        "                              \" RUL, use 'Predict' button. To view data for the aforementioned period, choose\"\n",
        "                              \" appropriate dates on the calendar.\"\n",
        "            )\n",
        "            if selected_column in list(df_button):\n",
        "                fig = go.Figure(\n",
        "                    data=[\n",
        "                        go.Scatter(x=df_button.index, y=df_button[selected_column])\n",
        "                    ]\n",
        "                )\n",
        "                fig = fig_update_layout(fig)\n",
        "                return fig, value_rul, _information_update\n",
        "            else:\n",
        "                fig = go.Figure(\n",
        "                    data=[\n",
        "                        go.Scatter(x=df_button.index, y=df_button[\"WEC: ava. windspeed\"])\n",
        "                    ]\n",
        "                )\n",
        "                fig = fig_update_layout(fig)\n",
        "                return fig, value_rul, _information_update\n",
        "    else:  # Prediction button is pressed\n",
        "        if n_get_new_info is None:\n",
        "            value_rul = 0.0\n",
        "            information_update = \" 'Predict' button will not produce a desired result until new information is received.\" \\\n",
        "                                 \" To predict RUL, please use 'Get New Data' button.\"\n",
        "            if selected_column in list(df):\n",
        "                if start_date and end_date:\n",
        "                    start_date_object = datetime.strptime(start_date, \"%Y-%m-%d\")\n",
        "                    end_date_object = datetime.strptime(end_date, \"%Y-%m-%d\")\n",
        "                    mask = (df.index > start_date_object) & (\n",
        "                        df.index <= end_date_object\n",
        "                    )\n",
        "                    df_within_dates = df.loc[mask]\n",
        "                    fig = go.Figure(\n",
        "                        data=[\n",
        "                            go.Scatter(\n",
        "                                x=df_within_dates.index,\n",
        "                                y=df_within_dates[selected_column],\n",
        "                            )\n",
        "                        ]\n",
        "                    )\n",
        "                    fig = fig_update_layout(fig)\n",
        "                    return fig, value_rul, information_update\n",
        "                elif start_date:\n",
        "                    start_date_object = datetime.strptime(start_date, \"%Y-%m-%d\")\n",
        "                    mask = df.index > start_date_object\n",
        "                    df_within_dates = df.loc[mask]\n",
        "                    fig = go.Figure(\n",
        "                        data=[\n",
        "                            go.Scatter(\n",
        "                                x=df_within_dates.index,\n",
        "                                y=df_within_dates[selected_column],\n",
        "                            )\n",
        "                        ]\n",
        "                    )\n",
        "                    fig = fig_update_layout(fig)\n",
        "                    return fig, value_rul, information_update\n",
        "                else:\n",
        "                    fig = go.Figure(\n",
        "                                data=[go.Scatter(x=df.index, y=df[selected_column])]\n",
        "                            )\n",
        "                    fig = fig_update_layout(fig)\n",
        "                    return fig, value_rul, information_update\n",
        "            else:\n",
        "                fig = go.Figure(\n",
        "                            data=[go.Scatter(x=df.index, y=df[\"WEC: ava. windspeed\"])]\n",
        "                        )\n",
        "                fig = fig_update_layout(fig)\n",
        "                return fig, value_rul, information_update\n",
        "        else:\n",
        "            model = pickle.load(open(\"assets/xgb_reg.pkl\", \"rb\"))\n",
        "            y_pred = model.predict(x_test)\n",
        "            df_out = pd.DataFrame()\n",
        "            df_out[\"pred\"] = y_pred\n",
        "            value_rul = round(max(df_out[\"pred\"]))\n",
        "            information_update = \"RUL is estimated based on the readings from the last week: \" \"from \" + str(\n",
        "                x_test.index[0]\n",
        "            ) + \" to \" + str(\n",
        "                x_test.index[-1]\n",
        "            )\n",
        "            start_date = df_button.index[0]\n",
        "            end_date = df_button.index[-1]\n",
        "            if selected_column in list(df_button):\n",
        "                fig = go.Figure(\n",
        "                    data=[\n",
        "                        go.Scatter(\n",
        "                            x=df_button.index,\n",
        "                            y=df_button[selected_column],\n",
        "                        )\n",
        "                        ]\n",
        "                )\n",
        "                fig = fig_update_layout(fig)\n",
        "                return fig, value_rul, information_update\n",
        "            else:\n",
        "                fig = go.Figure(\n",
        "                    data=[go.Scatter(x=df.index, y=df_button[\"WEC: ava. windspeed\"])]\n",
        "                )\n",
        "                fig = fig_update_layout(fig)\n",
        "                return fig, value_rul, information_update\n",
        "\n",
        "\n",
        "@app.callback(\n",
        "    [\n",
        "        Output(\"active-power-information-gauge\", \"value\"),\n",
        "        Output(\"active-power-from-wind-information-gauge\", \"value\"),\n",
        "        Output(\"wind-power-information-gauge\", \"value\"),\n",
        "        Output(\"reactive-power-information-gauge\", \"value\"),\n",
        "        Output(\"blade-angle-information-gauge\", \"value\"),\n",
        "    ],\n",
        "    Input(\"Main-Graph\", \"clickData\"),\n",
        ")\n",
        "def display_click_data(clickData):\n",
        "    if clickData:\n",
        "        data_time = clickData[\"points\"][0][\"x\"]\n",
        "        value_active_power = df[\"WEC: ava. Power\"].loc[df.index == data_time].values[0]\n",
        "        value_active_power_wind = (\n",
        "            df[\"WEC: ava. available P from wind\"].loc[df.index == data_time].values[0]\n",
        "        )\n",
        "        value_reactive_power = (\n",
        "            df[\"WEC: ava. reactive Power\"].loc[df.index == data_time].values[0]\n",
        "        )\n",
        "        value_wind_speed = (\n",
        "            df[\"WEC: ava. windspeed\"].loc[df.index == data_time].values[0]\n",
        "        )\n",
        "        value_blade_angle = (\n",
        "            df[\"WEC: ava. blade angle A\"].loc[df.index == data_time].values[0]\n",
        "        )\n",
        "        return (\n",
        "            value_active_power,\n",
        "            value_active_power_wind,\n",
        "            value_wind_speed,\n",
        "            value_reactive_power,\n",
        "            value_blade_angle,\n",
        "        )\n",
        "    else:\n",
        "        value_active_power = 0\n",
        "        value_active_power_wind = 0\n",
        "        value_reactive_power = 0\n",
        "        value_wind_speed = 0\n",
        "        value_blade_angle = 0\n",
        "        return (\n",
        "            value_active_power,\n",
        "            value_active_power_wind,\n",
        "            value_wind_speed,\n",
        "            value_reactive_power,\n",
        "            value_blade_angle,\n",
        "        )\n",
        "\n",
        "\n",
        "if __name__ == \"__main__\":\n",
        "    app.run_server(debug=False , use_reloader=True)\n"
      ],
      "execution_count": null,
      "outputs": [
        {
          "output_type": "error",
          "ename": "TypeError",
          "evalue": "ignored",
          "traceback": [
            "\u001b[0;31m---------------------------------------------------------------------------\u001b[0m",
            "\u001b[0;31mTypeError\u001b[0m                                 Traceback (most recent call last)",
            "\u001b[0;32m<ipython-input-16-6255099d6f32>\u001b[0m in \u001b[0;36m<module>\u001b[0;34m()\u001b[0m\n\u001b[1;32m     43\u001b[0m \u001b[0;34m\u001b[0m\u001b[0m\n\u001b[1;32m     44\u001b[0m \u001b[0;34m\u001b[0m\u001b[0m\n\u001b[0;32m---> 45\u001b[0;31m \u001b[0mdf\u001b[0m\u001b[0;34m,\u001b[0m \u001b[0mdf_button\u001b[0m\u001b[0;34m,\u001b[0m \u001b[0mx_test\u001b[0m\u001b[0;34m,\u001b[0m \u001b[0my_test\u001b[0m\u001b[0;34m,\u001b[0m \u001b[0mx_train\u001b[0m \u001b[0;34m=\u001b[0m \u001b[0mdata_preprocessing\u001b[0m\u001b[0;34m(\u001b[0m\u001b[0;34m)\u001b[0m\u001b[0;34m\u001b[0m\u001b[0;34m\u001b[0m\u001b[0m\n\u001b[0m\u001b[1;32m     46\u001b[0m \u001b[0;34m\u001b[0m\u001b[0m\n\u001b[1;32m     47\u001b[0m predict_button = dbc.Card(\n",
            "\u001b[0;31mTypeError\u001b[0m: 'module' object is not callable"
          ]
        }
      ]
    },
    {
      "cell_type": "code",
      "metadata": {
        "id": "Sj5wjAflZDG4"
      },
      "source": [
        "import pandas as pd\n",
        "pd.set_option('display.max_rows', 1000)\n",
        "pd.set_option('display.max_columns', 500)\n",
        "pd.set_option('display.width', 1000)\n",
        "pd.set_option('max_colwidth', 800)\n",
        "from collections import Counter\n",
        "import numpy as np"
      ],
      "execution_count": null,
      "outputs": []
    },
    {
      "cell_type": "code",
      "metadata": {
        "id": "Dt22gwduO90x",
        "colab": {
          "base_uri": "https://localhost:8080/"
        },
        "outputId": "6e440cef-668a-4fdf-ee0a-b940b897b8f8"
      },
      "source": [
        "!pip uninstall -y xgboost\n",
        "!pip uninstall -y scikit-learn"
      ],
      "execution_count": null,
      "outputs": [
        {
          "output_type": "stream",
          "name": "stdout",
          "text": [
            "Found existing installation: xgboost 0.90\n",
            "Uninstalling xgboost-0.90:\n",
            "  Successfully uninstalled xgboost-0.90\n",
            "Found existing installation: scikit-learn 0.22.2.post1\n",
            "Uninstalling scikit-learn-0.22.2.post1:\n",
            "  Successfully uninstalled scikit-learn-0.22.2.post1\n"
          ]
        }
      ]
    },
    {
      "cell_type": "code",
      "metadata": {
        "id": "1vUf-ryxPK10",
        "colab": {
          "base_uri": "https://localhost:8080/",
          "height": 476
        },
        "outputId": "ff59d423-d6d2-4599-c3c4-4e059962e24f"
      },
      "source": [
        "!pip install xgboost\n",
        "!pip install scikit-learn"
      ],
      "execution_count": null,
      "outputs": [
        {
          "output_type": "stream",
          "name": "stdout",
          "text": [
            "Collecting xgboost\n",
            "  Downloading xgboost-1.5.0-py3-none-manylinux2014_x86_64.whl (173.5 MB)\n",
            "\u001b[K     |████████████████████████████████| 173.5 MB 53 kB/s \n",
            "\u001b[?25hRequirement already satisfied: numpy in /usr/local/lib/python3.7/dist-packages (from xgboost) (1.19.5)\n",
            "Requirement already satisfied: scipy in /usr/local/lib/python3.7/dist-packages (from xgboost) (1.4.1)\n",
            "Installing collected packages: xgboost\n",
            "Successfully installed xgboost-1.5.0\n"
          ]
        },
        {
          "output_type": "display_data",
          "data": {
            "application/vnd.colab-display-data+json": {
              "pip_warning": {
                "packages": [
                  "xgboost"
                ]
              }
            }
          },
          "metadata": {}
        },
        {
          "output_type": "stream",
          "name": "stdout",
          "text": [
            "Collecting scikit-learn\n",
            "  Downloading scikit_learn-1.0-cp37-cp37m-manylinux_2_12_x86_64.manylinux2010_x86_64.whl (23.1 MB)\n",
            "\u001b[K     |████████████████████████████████| 23.1 MB 1.9 MB/s \n",
            "\u001b[?25hRequirement already satisfied: scipy>=1.1.0 in /usr/local/lib/python3.7/dist-packages (from scikit-learn) (1.4.1)\n",
            "Requirement already satisfied: joblib>=0.11 in /usr/local/lib/python3.7/dist-packages (from scikit-learn) (1.0.1)\n",
            "Requirement already satisfied: numpy>=1.14.6 in /usr/local/lib/python3.7/dist-packages (from scikit-learn) (1.19.5)\n",
            "Collecting threadpoolctl>=2.0.0\n",
            "  Downloading threadpoolctl-3.0.0-py3-none-any.whl (14 kB)\n",
            "Installing collected packages: threadpoolctl, scikit-learn\n",
            "Successfully installed scikit-learn-1.0 threadpoolctl-3.0.0\n"
          ]
        },
        {
          "output_type": "display_data",
          "data": {
            "application/vnd.colab-display-data+json": {
              "pip_warning": {
                "packages": [
                  "sklearn"
                ]
              }
            }
          },
          "metadata": {}
        }
      ]
    },
    {
      "cell_type": "code",
      "metadata": {
        "id": "2MuHS3dmZXPm"
      },
      "source": [
        "df = pd.read_csv('/content/drive/MyDrive/SCADA_data.csv')\n",
        "df['Inverter avg. temp'] = df[['CS101 : Sys 1 inverter 1 cabinet temp.',\n",
        "                          'CS101 : Sys 1 inverter 2 cabinet temp.', \n",
        "                          'CS101 : Sys 1 inverter 3 cabinet temp.', \n",
        "                          'CS101 : Sys 1 inverter 4 cabinet temp.', \n",
        "                          'CS101 : Sys 1 inverter 5 cabinet temp.', \n",
        "                          'CS101 : Sys 1 inverter 6 cabinet temp.', \n",
        "                          'CS101 : Sys 1 inverter 7 cabinet temp.',\n",
        "                          'CS101 : Sys 2 inverter 1 cabinet temp.', \n",
        "                          'CS101 : Sys 2 inverter 2 cabinet temp.',  \n",
        "                          'CS101 : Sys 2 inverter 3 cabinet temp.',\n",
        "                          'CS101 : Sys 2 inverter 4 cabinet temp.']].mean(axis=1)\n",
        "df['Inverter std. temp'] = df[['CS101 : Sys 1 inverter 1 cabinet temp.',\n",
        "                         'CS101 : Sys 1 inverter 2 cabinet temp.', \n",
        "                         'CS101 : Sys 1 inverter 3 cabinet temp.', \n",
        "                         'CS101 : Sys 1 inverter 4 cabinet temp.', \n",
        "                         'CS101 : Sys 1 inverter 5 cabinet temp.', \n",
        "                         'CS101 : Sys 1 inverter 6 cabinet temp.', \n",
        "                         'CS101 : Sys 1 inverter 7 cabinet temp.',\n",
        "                         'CS101 : Sys 2 inverter 1 cabinet temp.', \n",
        "                         'CS101 : Sys 2 inverter 2 cabinet temp.',  \n",
        "                         'CS101 : Sys 2 inverter 3 cabinet temp.',\n",
        "                         'CS101 : Sys 2 inverter 4 cabinet temp.']].std(axis=1)"
      ],
      "execution_count": null,
      "outputs": []
    },
    {
      "cell_type": "code",
      "metadata": {
        "id": "FFdZWqjcZYaW"
      },
      "source": [
        "df['Time'] = pd.to_datetime(df['Time'], dayfirst=True, errors='coerce')\n",
        "df.sort_values(by='Time', axis=0, inplace=True)\n",
        "df.reset_index(drop=True, inplace=True)"
      ],
      "execution_count": null,
      "outputs": []
    },
    {
      "cell_type": "code",
      "metadata": {
        "id": "2zdLhjozZdXI"
      },
      "source": [
        "df.rename(columns={\"Error\": \"Fault\"}, inplace=True)"
      ],
      "execution_count": null,
      "outputs": []
    },
    {
      "cell_type": "code",
      "metadata": {
        "id": "38-i7R6KZdsc"
      },
      "source": [
        "status_data_wec = pd.read_csv('/content/drive/MyDrive/status_data_wec.csv')\n",
        "af_corr_time_wec_s = status_data_wec.loc[(status_data_wec['Main Status']==62)|(status_data_wec['Main Status']==80)|\n",
        "                                         (status_data_wec['Main Status']==228)|(status_data_wec['Main Status']==60)|\n",
        "                                         (status_data_wec['Main Status']==9),\n",
        "                                         'Time']"
      ],
      "execution_count": null,
      "outputs": []
    },
    {
      "cell_type": "code",
      "metadata": {
        "id": "bYxJWmanZfWo"
      },
      "source": [
        "af_corr_time_wec_s = pd.to_datetime(af_corr_time_wec_s)\n",
        "af_corr_time_wes = af_corr_time_wec_s.round('10min')"
      ],
      "execution_count": null,
      "outputs": []
    },
    {
      "cell_type": "code",
      "metadata": {
        "id": "hFzlTmGMZgaZ"
      },
      "source": [
        "df['Fault'] = [0] * len(df)\n",
        "for i, d in enumerate(df['Time']):\n",
        "    if d in af_corr_time_wes.values:\n",
        "        df['Fault'][i] = 1"
      ],
      "execution_count": null,
      "outputs": []
    },
    {
      "cell_type": "code",
      "metadata": {
        "id": "6vYWo9JqZhc9"
      },
      "source": [
        "nf_times = []\n",
        "rul = []\n",
        "for i, d in enumerate(df['Fault']):\n",
        "    nf_times.append(df['Time'][i])\n",
        "    if d == 1:\n",
        "        for j in nf_times:\n",
        "            rul.append(df['Time'][i] - j)\n",
        "        nf_times = []    "
      ],
      "execution_count": null,
      "outputs": []
    },
    {
      "cell_type": "code",
      "metadata": {
        "id": "yEL_DYoJZipW"
      },
      "source": [
        "rul_seconds = [x.total_seconds() for x in rul]\n",
        "rul_hours = [x//3600 for x in rul_seconds]\n",
        "rul_days = [x.days for x in rul]\n",
        "\n",
        "df_trimmed = df.head(len(rul))"
      ],
      "execution_count": null,
      "outputs": []
    },
    {
      "cell_type": "code",
      "metadata": {
        "id": "Wkd8HVd0Zke7"
      },
      "source": [
        "df_trimmed['RUL'] = rul_days"
      ],
      "execution_count": null,
      "outputs": []
    },
    {
      "cell_type": "code",
      "metadata": {
        "id": "nc_c9G8BZpON"
      },
      "source": [
        "cols_to_drop = ['Fault',\n",
        "                'CS101 : Sys 1 inverter 1 cabinet temp.',\n",
        "                'CS101 : Sys 1 inverter 2 cabinet temp.', \n",
        "                'CS101 : Sys 1 inverter 3 cabinet temp.', \n",
        "                'CS101 : Sys 1 inverter 4 cabinet temp.', \n",
        "                'CS101 : Sys 1 inverter 5 cabinet temp.', \n",
        "                'CS101 : Sys 1 inverter 6 cabinet temp.', \n",
        "                'CS101 : Sys 1 inverter 7 cabinet temp.',\n",
        "                'CS101 : Sys 2 inverter 1 cabinet temp.', \n",
        "                'CS101 : Sys 2 inverter 2 cabinet temp.',  \n",
        "                'CS101 : Sys 2 inverter 3 cabinet temp.',\n",
        "                'CS101 : Sys 2 inverter 4 cabinet temp.']\n",
        "\n",
        "for i in cols_to_drop:\n",
        "  if i in list(df):\n",
        "    df_trimmed.drop(i, axis=1, inplace=True)                "
      ],
      "execution_count": null,
      "outputs": []
    },
    {
      "cell_type": "code",
      "metadata": {
        "id": "I57ecRPJZrEK"
      },
      "source": [
        "df_trimmed.set_index('Time', inplace=True)"
      ],
      "execution_count": null,
      "outputs": []
    },
    {
      "cell_type": "code",
      "metadata": {
        "id": "ViGHszuzZtY_"
      },
      "source": [
        "timesteps = 5\n",
        "\n",
        "df_trimmed = df_trimmed.head(39298)\n",
        "df = df_trimmed.copy()\n",
        "features = df.columns.tolist()\n",
        "\n",
        "df_list = [df[features].shift(shift_val) if (shift_val == 0) \n",
        "                                else df[features].shift(-shift_val).add_suffix(f'_{shift_val}') \n",
        "                                for shift_val in range(0,timesteps)]"
      ],
      "execution_count": null,
      "outputs": []
    },
    {
      "cell_type": "code",
      "metadata": {
        "id": "9J8H8fk6ZzrG"
      },
      "source": [
        "df_concat = pd.concat(df_list, axis=1, sort=False)\n",
        "df_concat = df_concat.iloc[:-timesteps,:]"
      ],
      "execution_count": null,
      "outputs": []
    },
    {
      "cell_type": "code",
      "metadata": {
        "id": "uGk_5KcjZ02r"
      },
      "source": [
        "from sklearn.model_selection import train_test_split\n",
        "\n",
        "target = 'RUL'\n",
        "x_train, x_test, y_train, y_test = train_test_split(df_concat, \n",
        "                                                    df[target].iloc[:-timesteps], \n",
        "                                                    test_size = 0.02642894598,\n",
        "                                                    random_state=10, shuffle=False) "
      ],
      "execution_count": null,
      "outputs": []
    },
    {
      "cell_type": "code",
      "metadata": {
        "id": "JDPTpFB8Z7Ve",
        "colab": {
          "base_uri": "https://localhost:8080/"
        },
        "outputId": "364fdd43-c187-425a-a73f-105ded0ef78b"
      },
      "source": [
        "import xgboost as xgb\n",
        "from sklearn.metrics import mean_squared_error as MSE, mean_absolute_error as MAE\n",
        "from sklearn.model_selection import TimeSeriesSplit\n",
        "from sklearn.model_selection import RandomizedSearchCV\n",
        "\n",
        "xgbr = xgb.XGBRegressor()\n",
        "\n",
        "param_grid = {\n",
        "        'max_depth': [6, 10, 15, 20],\n",
        "        'learning_rate': [0.001, 0.01, 0.1, 0.2, 0,3],\n",
        "        'subsample': [0.5, 0.6, 0.7, 0.8, 0.9, 1.0],\n",
        "        'colsample_bytree': [0.4, 0.5, 0.6, 0.7, 0.8, 0.9, 1.0],\n",
        "        'colsample_bylevel': [0.4, 0.5, 0.6, 0.7, 0.8, 0.9, 1.0],\n",
        "        'min_child_weight': [0.5, 1.0, 3.0, 5.0, 7.0, 10.0],\n",
        "        'gamma': [0, 0.25, 0.5, 1.0],\n",
        "        'reg_lambda': [0.1, 1.0, 5.0, 10.0, 50.0, 100.0],\n",
        "        'n_estimators': [30, 40, 50, 60, 70, 90, 80, 100],\n",
        "        'objective': ['reg:squarederror']\n",
        "        }\n",
        "\n",
        "rf_xgb = RandomizedSearchCV(xgbr, \n",
        "                            param_grid,\n",
        "                            cv = 5,\n",
        "                            n_jobs=1)\n",
        "\n",
        "rf_xgb.fit(x_train, y_train)\n",
        "  \n",
        "# Predict the model\n",
        "y_pred = rf_xgb.predict(x_test)\n",
        "  \n",
        "# RMSE Computation\n",
        "rmse = np.sqrt(MSE(y_test, y_pred))\n",
        "print(\"RMSE : % f\" %(rmse))"
      ],
      "execution_count": null,
      "outputs": [
        {
          "output_type": "stream",
          "name": "stdout",
          "text": [
            "RMSE :  0.018957\n"
          ]
        }
      ]
    },
    {
      "cell_type": "code",
      "metadata": {
        "id": "9SKV0zgwZ92B",
        "colab": {
          "base_uri": "https://localhost:8080/",
          "height": 282
        },
        "outputId": "edc5755a-788b-40f7-ade4-5cdc0692458e"
      },
      "source": [
        "df_out = pd.DataFrame()\n",
        "df_out['true'] = np.ravel(y_test.values)\n",
        "df_out['pred'] = y_pred\n",
        "\n",
        "df_out.plot()"
      ],
      "execution_count": null,
      "outputs": [
        {
          "output_type": "execute_result",
          "data": {
            "text/plain": [
              "<matplotlib.axes._subplots.AxesSubplot at 0x7fe027db0d10>"
            ]
          },
          "metadata": {},
          "execution_count": 35
        },
        {
          "output_type": "display_data",
          "data": {
            "image/png": "[encoded data removed]",
            "text/plain": [
              "<Figure size 432x288 with 1 Axes>"
            ]
          },
          "metadata": {
            "needs_background": "light"
          }
        }
      ]
    },
    {
      "cell_type": "code",
      "metadata": {
        "id": "csfNUqpSrpUc"
      },
      "source": [
        "import pickle\n",
        "pickle.dump(rf_xgb, open(\"xgb_reg.pkl\", \"wb\"))"
      ],
      "execution_count": null,
      "outputs": []
    },
    {
      "cell_type": "code",
      "metadata": {
        "id": "svq96RDMUbpc"
      },
      "source": [
        ""
      ],
      "execution_count": null,
      "outputs": []
    },
    {
      "cell_type": "code",
      "metadata": {
        "id": "6249gTqarjYp",
        "colab": {
          "base_uri": "https://localhost:8080/"
        },
        "outputId": "029583ad-76e5-48aa-f975-c2faffed2884"
      },
      "source": [
        "import webbrowser\n",
        "webbrowser.open_new_tab('www.dash-gallery.plotly.host/dash-turbine-maintenance')\n"
      ],
      "execution_count": null,
      "outputs": [
        {
          "output_type": "execute_result",
          "data": {
            "text/plain": [
              "False"
            ]
          },
          "metadata": {},
          "execution_count": 37
        }
      ]
    },
    {
      "cell_type": "code",
      "metadata": {
        "id": "-RPTDNpevGwb"
      },
      "source": [
        "from IPython.display import Javascript\n",
        "def open_web():\n",
        "    url = 'https://www.dash-gallery.plotly.host/dash-turbine-maintenance/'\n",
        "    display(Javascript('window.open(\"{url}\");'.format(url=url)))"
      ],
      "execution_count": null,
      "outputs": []
    },
    {
      "cell_type": "code",
      "metadata": {
        "id": "78RQygfuvOPi",
        "colab": {
          "base_uri": "https://localhost:8080/",
          "height": 17
        },
        "outputId": "6dffb223-5032-4a16-a457-983413e32c43"
      },
      "source": [
        "%%javascript\n",
        "window.open('https://dash-gallery.plotly.host/dash-turbine-maintenance', '_blank');"
      ],
      "execution_count": null,
      "outputs": [
        {
          "output_type": "display_data",
          "data": {
            "application/javascript": [
              "window.open('https://dash-gallery.plotly.host/dash-turbine-maintenance', '_blank');"
            ],
            "text/plain": [
              "<IPython.core.display.Javascript object>"
            ]
          },
          "metadata": {}
        }
      ]
    },
    {
      "cell_type": "code",
      "metadata": {
        "id": "J7uYF9hB_YYz"
      },
      "source": [
        ""
      ],
      "execution_count": null,
      "outputs": []
    },
    {
      "cell_type": "markdown",
      "metadata": {
        "id": "9xUl7594_Zpe"
      },
      "source": [
        "![4.png](data:image/png;base64,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)![2.png](data:image/png;base64,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)"
      ]
    },
    {
      "cell_type": "markdown",
      "metadata": {
        "id": "4OMjNTVLwjri"
      },
      "source": [
        "![image.png](data:image/png;base64,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)"
      ]
    },
    {
      "cell_type": "markdown",
      "metadata": {
        "id": "QdbuDllfwrsV"
      },
      "source": [
        "[[1018  134]\n",
        " [ 193  965]]\n",
        "\n",
        "\n",
        "Classification report:\n",
        "\n",
        "              precision    recall  f1-score   support\n",
        "\n",
        "           0       0.88      0.84      0.86      1211\n",
        "           1       0.83      0.88      0.86      1099\n",
        "\n",
        "    accuracy                           0.86      2310\n",
        "   macro avg       0.86      0.86      0.86      2310\n",
        "weighted avg       0.86      0.86      0.86      2310"
      ]
    },
    {
      "cell_type": "markdown",
      "metadata": {
        "id": "6JgxG6Yww2Ik"
      },
      "source": [
        ""
      ]
    }
  ]
}